{
  "nbformat": 4,
  "nbformat_minor": 0,
  "metadata": {
    "colab": {
      "provenance": [],
      "authorship_tag": "ABX9TyMf1elGKWPkW1jIVSaNJbkm",
      "include_colab_link": true
    },
    "kernelspec": {
      "name": "python3",
      "display_name": "Python 3"
    },
    "language_info": {
      "name": "python"
    }
  },
  "cells": [
    {
      "cell_type": "markdown",
      "metadata": {
        "id": "view-in-github",
        "colab_type": "text"
      },
      "source": [
        "<a href=\"https://colab.research.google.com/github/rayasrujanareddy/ML-KNN/blob/main/KNN_Assignment.ipynb\" target=\"_parent\"><img src=\"https://colab.research.google.com/assets/colab-badge.svg\" alt=\"Open In Colab\"/></a>"
      ]
    },
    {
      "cell_type": "markdown",
      "source": [
        "### KNN:- 1. Implement K-NN Classifier for classification of any dataset of your choice."
      ],
      "metadata": {
        "id": "Lu7gxSwWoG90"
      }
    },
    {
      "cell_type": "markdown",
      "source": [
        "### a. Load an existing data set"
      ],
      "metadata": {
        "id": "d95EFFfOnq-8"
      }
    },
    {
      "cell_type": "code",
      "source": [
        "import numpy as np\n",
        "import csv\n",
        "import math\n",
        "import matplotlib.pyplot as plt\n",
        "\n",
        "# Load dataset, skip the first (non-numeric) column and display a few rows\n",
        "def load_data(filepath, num_rows=5):\n",
        "    with open(filepath, 'r') as f:\n",
        "        data = list(csv.reader(f))\n",
        "    # Extract headers and data separately\n",
        "    headers = data[0]\n",
        "    dataset = np.array([row[1:] for row in data[1:]], dtype=float)  # Skip the car name column\n",
        "\n",
        "    # Display the headers and the first few rows of the dataset\n",
        "    print(\"Headers:\", headers[1:])  # Exclude the first header (car names)\n",
        "    print(\"First few rows of the dataset:\")\n",
        "    for row in dataset[:num_rows]:\n",
        "        print(row)\n",
        "\n",
        "    return dataset"
      ],
      "metadata": {
        "id": "IwQhZ8vFmeay"
      },
      "execution_count": 1,
      "outputs": []
    },
    {
      "cell_type": "markdown",
      "source": [
        "### b. Split the data set to train and test sets"
      ],
      "metadata": {
        "id": "lmR8Rb0Gntg8"
      }
    },
    {
      "cell_type": "code",
      "source": [
        "# Split dataset into train and test sets\n",
        "def split_data(dataset, test_size=0.2):\n",
        "    np.random.shuffle(dataset)\n",
        "    split_index = int(len(dataset) * (1 - test_size))\n",
        "    train_data = dataset[:split_index]\n",
        "    test_data = dataset[split_index:]\n",
        "    return train_data, test_data"
      ],
      "metadata": {
        "id": "qKstfWQNnP1_"
      },
      "execution_count": 2,
      "outputs": []
    },
    {
      "cell_type": "code",
      "source": [
        "# Euclidean distance calculation\n",
        "def euclidean_distance(row1, row2):\n",
        "    return math.sqrt(np.sum((row1 - row2)**2))\n",
        "\n",
        "# Get the nearest neighbors\n",
        "def get_neighbors(train, test_row, k):\n",
        "    distances = []\n",
        "    for train_row in train:\n",
        "        dist = euclidean_distance(test_row[:-1], train_row[:-1])\n",
        "        distances.append((train_row, dist))\n",
        "    distances.sort(key=lambda tup: tup[1])\n",
        "    neighbors = [distances[i][0] for i in range(k)]\n",
        "    return neighbors"
      ],
      "metadata": {
        "id": "KSJyrQWhnUC-"
      },
      "execution_count": 3,
      "outputs": []
    },
    {
      "cell_type": "markdown",
      "source": [
        "### c. Test your model using test set. Find accuracy and confusion Matrix."
      ],
      "metadata": {
        "id": "PrsZXIf1n2XQ"
      }
    },
    {
      "cell_type": "code",
      "source": [
        "# Make a prediction\n",
        "def predict_classification(train, test_row, k):\n",
        "    neighbors = get_neighbors(train, test_row, k)\n",
        "    output_labels = [row[-1] for row in neighbors]\n",
        "    prediction = max(set(output_labels), key=output_labels.count)\n",
        "    return prediction\n",
        "\n",
        "# Calculate accuracy\n",
        "def calculate_accuracy(test_data, predictions):\n",
        "    correct = sum(1 for i in range(len(test_data)) if test_data[i][-1] == predictions[i])\n",
        "    return correct / len(test_data) * 100\n",
        "\n",
        "# Confusion matrix\n",
        "def confusion_matrix(test_data, predictions):\n",
        "    unique_labels = np.unique([row[-1] for row in test_data])\n",
        "    matrix = np.zeros((len(unique_labels), len(unique_labels)), dtype=int)\n",
        "    label_to_index = {label: i for i, label in enumerate(unique_labels)}\n",
        "\n",
        "    for i in range(len(test_data)):\n",
        "        actual = label_to_index[test_data[i][-1]]\n",
        "        predicted = label_to_index[predictions[i]]\n",
        "        matrix[actual][predicted] += 1\n",
        "\n",
        "    return matrix"
      ],
      "metadata": {
        "id": "jksKEO57nc1v"
      },
      "execution_count": 4,
      "outputs": []
    },
    {
      "cell_type": "markdown",
      "source": [
        "### d. Examine the effect of the value of K on accuracy/performance. Plot the curve “k vs accuracy” and find out the value of k for maximum accuracy for the test samples."
      ],
      "metadata": {
        "id": "QtjK_xJ1n8DW"
      }
    },
    {
      "cell_type": "code",
      "execution_count": 8,
      "metadata": {
        "colab": {
          "base_uri": "https://localhost:8080/",
          "height": 1000
        },
        "id": "OzHnb_ldlDCe",
        "outputId": "d34dd24c-1ca3-48f2-c781-429bc9fc3d24"
      },
      "outputs": [
        {
          "output_type": "stream",
          "name": "stdout",
          "text": [
            "Headers: ['mpg', 'cyl', 'disp', 'hp', 'drat', 'wt', 'qsec', 'vs', 'am', 'gear', 'carb']\n",
            "First few rows of the dataset:\n",
            "[ 21.     6.   160.   110.     3.9    2.62  16.46   0.     1.     4.\n",
            "   4.  ]\n",
            "[ 21.      6.    160.    110.      3.9     2.875  17.02    0.      1.\n",
            "   4.      4.   ]\n",
            "[ 22.8    4.   108.    93.     3.85   2.32  18.61   1.     1.     4.\n",
            "   1.  ]\n",
            "[ 21.4     6.    258.    110.      3.08    3.215  19.44    1.      0.\n",
            "   3.      1.   ]\n",
            "[ 18.7    8.   360.   175.     3.15   3.44  17.02   0.     0.     3.\n",
            "   2.  ]\n",
            "k=1, Accuracy=71.43%\n",
            "k=2, Accuracy=71.43%\n",
            "k=3, Accuracy=42.86%\n",
            "k=4, Accuracy=42.86%\n",
            "k=5, Accuracy=42.86%\n",
            "k=6, Accuracy=28.57%\n",
            "k=7, Accuracy=0.00%\n",
            "k=8, Accuracy=14.29%\n",
            "k=9, Accuracy=14.29%\n",
            "k=10, Accuracy=14.29%\n"
          ]
        },
        {
          "output_type": "display_data",
          "data": {
            "text/plain": [
              "<Figure size 1000x600 with 1 Axes>"
            ],
            "image/png": "[encoded data removed]"
          },
          "metadata": {}
        },
        {
          "output_type": "stream",
          "name": "stdout",
          "text": [
            "Best k: 1\n",
            "Final Accuracy: 71.43%\n",
            "Confusion Matrix:\n",
            "[[1 1 0]\n",
            " [0 2 1]\n",
            " [0 0 2]]\n"
          ]
        }
      ],
      "source": [
        "# k vs accuracy plot\n",
        "def k_vs_accuracy(train_data, test_data, max_k=10):\n",
        "    accuracies = []\n",
        "    for k in range(1, max_k + 1):\n",
        "        predictions = [predict_classification(train_data, row, k) for row in test_data]\n",
        "        accuracy = calculate_accuracy(test_data, predictions)\n",
        "        accuracies.append(accuracy)\n",
        "        print(f'k={k}, Accuracy={accuracy:.2f}%')\n",
        "    return accuracies\n",
        "\n",
        "# Main function\n",
        "def main(filepath):\n",
        "    # Load and prepare data\n",
        "    dataset = load_data(filepath)\n",
        "    train_data, test_data = split_data(dataset)\n",
        "\n",
        "    # Evaluate the effect of k on accuracy\n",
        "    accuracies = k_vs_accuracy(train_data, test_data, max_k=10)\n",
        "\n",
        "    # Plot k vs accuracy\n",
        "    plt.figure(figsize=(10, 6))\n",
        "    plt.plot(range(1, 11), accuracies, marker='o', linestyle='-', color='b')\n",
        "    plt.xticks(range(1, 11))\n",
        "    plt.yticks(np.arange(0, 101, 10))  # Set y-ticks to range from 0 to 100\n",
        "    plt.xlabel('k')\n",
        "    plt.ylabel('Accuracy (%)')\n",
        "    plt.title('k vs Accuracy')\n",
        "    plt.grid()\n",
        "    plt.ylim(0, 100)  # Set y-axis limits to 0-100%\n",
        "    plt.show()\n",
        "\n",
        "    # Use the best k to get confusion matrix and final accuracy\n",
        "    best_k = np.argmax(accuracies) + 1\n",
        "    print(f'Best k: {best_k}')\n",
        "\n",
        "    final_predictions = [predict_classification(train_data, row, best_k) for row in test_data]\n",
        "    accuracy = calculate_accuracy(test_data, final_predictions)\n",
        "    print(f'Final Accuracy: {accuracy:.2f}%')\n",
        "\n",
        "    matrix = confusion_matrix(test_data, final_predictions)\n",
        "    print('Confusion Matrix:')\n",
        "    print(matrix)\n",
        "\n",
        "# Call the main function with the dataset path\n",
        "main('/content/mtcars.csv')\n"
      ]
    }
  ]
}